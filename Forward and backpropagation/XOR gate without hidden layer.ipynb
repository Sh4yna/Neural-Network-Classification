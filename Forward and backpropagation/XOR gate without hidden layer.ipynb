{
 "cells": [
  {
   "cell_type": "code",
   "execution_count": 27,
   "id": "a3942fa2-7292-4f9d-bed0-612745205fb8",
   "metadata": {},
   "outputs": [],
   "source": [
    "import numpy as np"
   ]
  },
  {
   "cell_type": "code",
   "execution_count": 29,
   "id": "ce25bebd-901a-401a-8acb-86700d388ce7",
   "metadata": {},
   "outputs": [],
   "source": [
    "class Perceptron:\n",
    "    def __init__(self):\n",
    "        self.inputs=np.array([[1,1,0,0],[0,1,1,0],[1,1,1,1]])\n",
    "        self.z=np.array([[1],[0],[1],[0]])\n",
    "        self.weights_bias=np.zeros((1,3))\n",
    "        self.alpha=0.2\n",
    "        self.x=np.array([[0],[0],[0],[0]])\n",
    "        \n",
    "    def forward_prop(self):\n",
    "        self.x=np.matmul(self.weights_bias, self.inputs).T\n",
    "\n",
    "    def cost(self):\n",
    "        a=(self.x-self.z)**2\n",
    "        a=(a.sum(0))/4\n",
    "        print(a)\n",
    "        \n",
    "    def backprop(self):\n",
    "        for i in range(100):\n",
    "            self.forward_prop()\n",
    "            v=np.dot(self.inputs,(self.x-self.z))\n",
    "            self.weights_bias=self.weights_bias-(self.alpha*(v.T))            \n",
    "            \n",
    "    def output(self,a,b):\n",
    "        print(np.matmul(self.weights_bias, np.array([[a],[b],[1]])))  "
   ]
  },
  {
   "cell_type": "code",
   "execution_count": 31,
   "id": "fff3f673-b6a0-4a71-a323-db34b9774129",
   "metadata": {},
   "outputs": [],
   "source": [
    "X=Perceptron()"
   ]
  },
  {
   "cell_type": "code",
   "execution_count": 33,
   "id": "a701127f-06fc-485e-b030-9788cb4d05d7",
   "metadata": {},
   "outputs": [],
   "source": [
    "X.backprop()"
   ]
  },
  {
   "cell_type": "code",
   "execution_count": 35,
   "id": "79823304-4a01-4b9b-8a79-36ad76d81ecc",
   "metadata": {},
   "outputs": [
    {
     "name": "stdout",
     "output_type": "stream",
     "text": [
      "[[0.49999969]]\n"
     ]
    }
   ],
   "source": [
    "X.output(0,0)"
   ]
  },
  {
   "cell_type": "code",
   "execution_count": 37,
   "id": "46a7c3ad-bf9c-460c-95d5-bf82db7f5ff2",
   "metadata": {},
   "outputs": [
    {
     "name": "stdout",
     "output_type": "stream",
     "text": [
      "[0.25]\n"
     ]
    }
   ],
   "source": [
    "X.cost()"
   ]
  },
  {
   "cell_type": "markdown",
   "id": "a12fba2e-bc07-4b89-af97-911d00fe5c01",
   "metadata": {},
   "source": [
    "Single layer perceptron does not work for XOR gate because there is no linear equation that satisfies its truth table"
   ]
  },
  {
   "cell_type": "code",
   "execution_count": null,
   "id": "c75d9694-8697-43b4-9cae-2465c8933fc5",
   "metadata": {},
   "outputs": [],
   "source": []
  }
 ],
 "metadata": {
  "kernelspec": {
   "display_name": "Python [conda env:base] *",
   "language": "python",
   "name": "conda-base-py"
  },
  "language_info": {
   "codemirror_mode": {
    "name": "ipython",
    "version": 3
   },
   "file_extension": ".py",
   "mimetype": "text/x-python",
   "name": "python",
   "nbconvert_exporter": "python",
   "pygments_lexer": "ipython3",
   "version": "3.12.7"
  }
 },
 "nbformat": 4,
 "nbformat_minor": 5
}
